{
 "cells": [
  {
   "cell_type": "markdown",
   "metadata": {},
   "source": [
    "# `utilities.py`\n",
    "This module contains general functions that can be used across modules\n",
    "## `check_object()`\n",
    "This function was developed during an abstraction of checker methods used for the initializer of the `Transaction` class following [this commit](https://github.com/alnoki/AAAAAA/commit/12c33087891fdcc5886afa334a28c7871d8ae0ef). It was used to check positional and keyword arguments and values during the development of input-checking code\n",
    "\n",
    "The function checks object(s) for valid [type](https://docs.python.org/3/library/stdtypes.html#built-in-types) or value. The function raises a [TypeError](https://docs.python.org/3/library/exceptions.html#TypeError) if an object is of the wrong type or a [ValueError](https://docs.python.org/3/library/exceptions.html#ValueError) if an object has invalid values:"
   ]
  },
  {
   "cell_type": "code",
   "execution_count": 1,
   "metadata": {},
   "outputs": [],
   "source": [
    "def check_object(what_to_check, checks):\n",
    "    \"\"\"Checks object(s) for valid type or value\"\"\"\n",
    "    if what_to_check == 'types':\n",
    "        # checks is a dictionary, with objects as keys. The values are\n",
    "        # tuples with the expected type(s) of the object, and an error\n",
    "        # message to be raised if the object is of the wrong type\n",
    "        for obj, (obj_types, error_msg) in checks.items():\n",
    "            actual_types = tuple([  # Types that are not None\n",
    "                val for val in obj_types if val is not None])\n",
    "            if not ((None in obj_types and obj is None) or\n",
    "                    (isinstance(obj, actual_types))):\n",
    "                raise TypeError(error_msg)\n",
    "    if what_to_check == 'values':\n",
    "        # checks is a list of tuples. Each tuple is a boolean condition\n",
    "        # and a message to be raised if the condition is true\n",
    "        for check, error_message in checks:\n",
    "            if check is True:\n",
    "                raise ValueError(error_message)"
   ]
  },
  {
   "cell_type": "markdown",
   "metadata": {},
   "source": [
    "If `what_to_check` is `'types'` then the `checks` structure should be a [dictionary](https://docs.python.org/3/tutorial/datastructures.html#dictionaries) and if `what_to_check` is `'values'` then the `checks` structure should be a [list](https://docs.python.org/3/tutorial/datastructures.html#more-on-lists)\n",
    "\n",
    "### Checking `'types'`\n",
    "\n",
    "An example call to `check_object()` is below, when checking `'types'`. Note the syntax used to define the dictionary:"
   ]
  },
  {
   "cell_type": "code",
   "execution_count": null,
   "metadata": {},
   "outputs": [],
   "source": [
    "check_object('types', dict([  # Positional arg types\n",
    "    (date, ((datetime.date,), 'date')),\n",
    "    (total_amount, ((float, int), 'total_amount')),\n",
    "    (transact_type, ((str,), 'transact_type'))]))"
   ]
  },
  {
   "cell_type": "markdown",
   "metadata": {},
   "source": [
    "The keys of the dictionary are the objects (in this case, positional arguments to a Class initializer) to check\n",
    "\n",
    "The values of the dictionary are [tuples](https://docs.python.org/3/tutorial/datastructures.html#tuples-and-sequences) where the first value describes the allowed [type(s)](https://docs.python.org/3/library/stdtypes.html#built-in-types) of the object, and the second value is an error message to be raised if the object is not of the type(s) specified. Not that the allowed types must be a tuple even in the case of just one type: see `(str,)`\n",
    "\n",
    "In the above case, if `total_amount` is not a `float` or an `int`, then `check_objects()` is designed to raise `TypeError('total_amount')`\n",
    "\n",
    "The allowed type(s) can also include `None` like in the below example:"
   ]
  },
  {
   "cell_type": "code",
   "execution_count": null,
   "metadata": {},
   "outputs": [],
   "source": [
    "check_object('types', dict([  # Keyword arg types\n",
    "    (symbol, ((str, None), 'symbol')),\n",
    "    (num_shares, ((int, None), 'num_shares')),\n",
    "    (description, ((str, None), 'description'))]))"
   ]
  },
  {
   "cell_type": "markdown",
   "metadata": {},
   "source": [
    "In this case, `symbol` can be either `str` or `None`. This is checked via the below portion of `check_objects()`:"
   ]
  },
  {
   "cell_type": "code",
   "execution_count": null,
   "metadata": {},
   "outputs": [],
   "source": [
    "for obj, (obj_types, error_msg) in checks.items():\n",
    "    actual_types = tuple([  # Types that are not None\n",
    "        val for val in obj_types if val is not None])\n",
    "    if not ((None in obj_types and obj is None) or\n",
    "            (isinstance(obj, actual_types))):\n",
    "        raise TypeError(error_msg)"
   ]
  },
  {
   "cell_type": "markdown",
   "metadata": {},
   "source": [
    "This section loops over all of the key-value pairs in the dictionary and first establishes which of the allowed types are not `None`, because [`isinstance()`](https://docs.python.org/3/library/functions.html#isinstance) does not accept `None` as an argument\n",
    "\n",
    "Then, if the object being tested does not match any of the types (including `None`, which is not technically a python type) from the specified allowed types tuple in the `checks` dictionary, a `TypeError` is raised\n",
    "\n",
    "### Checking `'values'`\n",
    "An example call to `check_object()` is below, when checking `'values'`. Note the syntax used to define the list:"
   ]
  },
  {
   "cell_type": "code",
   "execution_count": null,
   "metadata": {},
   "outputs": [],
   "source": [
    "check_object('values', [  # Positional arg values\n",
    "    (total_amount < 0, \"total_amount negative\"),\n",
    "    (transact_type not in transact_types, \"transact_type type\")])"
   ]
  },
  {
   "cell_type": "markdown",
   "metadata": {},
   "source": [
    "The `checks` list contains tuples, where the first value is a boolean condition and the second value is a corresponding error message\n",
    "\n",
    "In the above case, if `total_amount` is a negative number, then `check_object()` will raise `ValueError(\"total_amount negative\")` via the below portion of code in `check_object()`:"
   ]
  },
  {
   "cell_type": "code",
   "execution_count": null,
   "metadata": {},
   "outputs": [],
   "source": [
    "if what_to_check == 'values':\n",
    "    # checks is a list of tuples. Each tuple is a boolean condition\n",
    "    # and a message to be raised if the condition is true\n",
    "    for check, error_message in checks:\n",
    "        if check is True:\n",
    "            raise ValueError(error_message)"
   ]
  }
 ],
 "metadata": {
  "kernelspec": {
   "display_name": "Python 3",
   "language": "python",
   "name": "python3"
  },
  "language_info": {
   "codemirror_mode": {
    "name": "ipython",
    "version": 3
   },
   "file_extension": ".py",
   "mimetype": "text/x-python",
   "name": "python",
   "nbconvert_exporter": "python",
   "pygments_lexer": "ipython3",
   "version": "3.6.6"
  }
 },
 "nbformat": 4,
 "nbformat_minor": 2
}
