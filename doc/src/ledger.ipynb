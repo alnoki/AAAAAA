{
 "cells": [
  {
   "cell_type": "markdown",
   "metadata": {},
   "source": [
    "# The Transaction [class](https://docs.python.org/3/tutorial/classes.html)\n",
    "## Attributes\n",
    "A transaction is defined as an object with the following attributes:\n",
    "1. Date\n",
    "2. Total amount\n",
    "3. Transaction type\n",
    "4. Symbol (optional)\n",
    "5. Number of shares (optional)\n",
    "6. Description (optional)\n",
    "\n",
    "[Function annotations](https://www.python.org/dev/peps/pep-3107/) capture the expected type of input for each of these attributes, and [default argument values](https://docs.python.org/3/tutorial/controlflow.html#default-argument-values) are used for the optional [keyword arguments](https://docs.python.org/3/tutorial/controlflow.html#keyword-arguments) per the below [`__init__()`](https://docs.python.org/3/reference/datamodel.html#object.__init__) syntax:"
   ]
  },
  {
   "cell_type": "code",
   "execution_count": 12,
   "metadata": {},
   "outputs": [],
   "source": [
    "import datetime\n",
    "from typing import Union\n",
    "\n",
    "class Transaction:\n",
    "    \"\"\"Represents a bank transfer, buy, dividends, fee, or sell\"\"\"\n",
    "\n",
    "    def __init__(self, date: datetime.date, total_amount: Union[float, int],\n",
    "                 transact_type: str, symbol: str=None,\n",
    "                 num_shares: int=None, description: str=None):\n",
    "        \"\"\"Creates object if valid parameters, else raises error\"\"\"\n",
    "        try:  # Check input validity before assignment\n",
    "            self._check_arg_types(date, total_amount, transact_type)\n",
    "            self._check_arg_vals(total_amount, transact_type)\n",
    "            self._check_kwarg_types(symbol, num_shares, description)\n",
    "            self._check_kwarg_vals(transact_type, symbol, num_shares)\n",
    "        except (AttributeError, ValueError) as e:\n",
    "            raise e\n",
    "        else:  # Create an object if data is valid\n",
    "            self.date = date\n",
    "            self.total_amount = float(total_amount)\n",
    "            self.transact_type = transact_type\n",
    "            self.symbol = symbol\n",
    "            self.num_shares = num_shares\n",
    "            self.description = description"
   ]
  },
  {
   "cell_type": "markdown",
   "metadata": {},
   "source": [
    "Note that the [`Union`](https://docs.python.org/3/library/typing.html#typing.Union) facility specifies that `total_amount` is expected as either a `float` or as an `int` (although the value is later cast to a `float`)\n",
    "\n",
    "If all validity checks are successful (do not raise any [Exceptions](https://docs.python.org/3/tutorial/errors.html)), then a Transaction [instance](https://docs.python.org/3/tutorial/classes.html#instance-objects) is created. While `total_amount` can be initialized with either an `int` or a `float` argument, it is cast to a `float` for consistency\n",
    "## Validity checking\n",
    "\n",
    "Input validity is checked before assignment to verify data type and values of both [positional](https://docs.python.org/3/glossary.html) and [keyword arguments](https://docs.python.org/3/tutorial/controlflow.html#keyword-arguments). If any of the [private methods](https://docs.python.org/3/tutorial/classes.html#private-variables), designated by `self._check_XXXX()`, raise an [exception](https://docs.python.org/3/library/exceptions.html), then the exception is re-raised and no object is created. If the `__init__()` [parameters](https://docs.python.org/3/faq/programming.html#faq-argument-vs-parameter) are valid, then an object is created\n",
    "\n",
    "Checks against the data type of an argument can raise an `AttributeError`, and checks against the data contents of an argument can raise a `ValueError`\n",
    "### `_check_arg_types()`\n",
    "The first checker method, `_check_arg_types()`, checks the data type of the positional arguments `date`, `total_amount`, and `transact_type`:"
   ]
  },
  {
   "cell_type": "code",
   "execution_count": 8,
   "metadata": {},
   "outputs": [],
   "source": [
    "class Transaction:\n",
    "...\n",
    "    def _check_arg_types(self, date, total_amount, transact_type):\n",
    "        \"\"\"Verify positional arguments are correct data type\"\"\"\n",
    "        # Key is argument, value is tuple with expected format(s) and\n",
    "        # associated error message\n",
    "        checks = dict([(date, (datetime.date, \"date type\")),\n",
    "                       (total_amount, ((float, int), \"total_amount type\")),\n",
    "                       (transact_type, (str, \"transact_type type\"))])\n",
    "        self._check_types(checks)\n",
    "..."
   ]
  },
  {
   "cell_type": "markdown",
   "metadata": {},
   "source": [
    "The method assembles a `checks` [dictionary](https://docs.python.org/3/tutorial/datastructures.html#dictionaries) with keys that correspond to the positional arguments from the `__init__()` method. The value for each key is a [tuple](https://docs.python.org/3/tutorial/datastructures.html#tuples-and-sequences) that contains:\n",
    "1. The expected data type(s) for each argument\n",
    "2. The error message to be raised is the argument type is wrong\n",
    "\n",
    "The `checks` dictionary is then passed to `_check_types()`:\n",
    "### `_check_types()`"
   ]
  },
  {
   "cell_type": "code",
   "execution_count": 9,
   "metadata": {},
   "outputs": [],
   "source": [
    "class Transaction:\n",
    "...\n",
    "    def _check_types(self, checks, keyword_args=False):\n",
    "        \"\"\"Verify positional/keyword arguments are correct type\"\"\"\n",
    "        # Key is argument, value is tuple with expected format(s) and\n",
    "        # associated error message\n",
    "        for arg, (arg_type, error_msg) in checks.items():\n",
    "            # For positional arguments, just check if is correct type\n",
    "            # For keyword args, check if is None or is correct type\n",
    "            if ((not isinstance(arg, arg_type)) and\n",
    "                    (not (keyword_args == True and arg is None))):\n",
    "                raise AttributeError(error_msg)\n",
    "..."
   ]
  },
  {
   "cell_type": "markdown",
   "metadata": {},
   "source": [
    "The method accepts the `checks` dictionary described above and uses [looping technique](https://docs.python.org/3.4/tutorial/datastructures.html#looping-techniques) [unpacking syntax](https://docs.python.org/3.4/tutorial/controlflow.html#unpacking-argument-lists) to check if each argument is of the correct data type\n",
    "\n",
    "Note the `keyword_args` keyword argument with a default value of `False` (which will be described later). For an arbitrary key in the `checks` dictionary, the first line of the `if` statement, using [`isinstance`](https://docs.python.org/3/library/functions.html#isinstance), reads as:\n",
    "\n",
    "*if the argument is not of the specified type*\n",
    "\n",
    "Since `_check_arg_types()` calls `_check_types()` with just one argument (the `checks` dictionary), `keyword_args` is `False` and the second line of the `if` statement evaluates to `True`\n",
    "\n",
    "This means that if any of the positional arguments to `__init__()` do not have the data type specified in `checks`, then an `AttributeError` will be raised with the resultant message from the value tuple of the `checks` dictionary \n",
    "### `_check_kwarg_types()`\n",
    "\n",
    "Keyword arguments in the `__init__()` method are checked via `_check_kwarg_types()`:"
   ]
  },
  {
   "cell_type": "code",
   "execution_count": 15,
   "metadata": {},
   "outputs": [],
   "source": [
    "class Transaction:\n",
    "...\n",
    "    def _check_kwarg_types(self, symbol, num_shares, description):\n",
    "            \"\"\"Verify keyword arguments are correct data type\"\"\"\n",
    "            # Key is argument, value is tuple with expected format(s) and\n",
    "            # associated error message\n",
    "            checks = dict([(symbol, (str, \"symbol type\")),\n",
    "                           (num_shares, (int, \"num_shares type\")),\n",
    "                           (description, (str, \"description type\"))])\n",
    "            self._check_types(checks, keyword_args=True)\n",
    "..."
   ]
  },
  {
   "cell_type": "markdown",
   "metadata": {},
   "source": [
    "The structure of this function is identical to `_check_arg_types()`, except that the call to `_check_types()` sets the keyword argument `keyword_args` to `True`\n",
    "\n",
    "`_check_types()` loops over the `checks` dictionary, but the second line of the `if` statement does not automatically evaluate to `True` as before:"
   ]
  },
  {
   "cell_type": "code",
   "execution_count": null,
   "metadata": {},
   "outputs": [],
   "source": [
    "if ((not isinstance(arg, arg_type)) and\n",
    "        (not (keyword_args == True and arg is None))):"
   ]
  },
  {
   "cell_type": "markdown",
   "metadata": {},
   "source": [
    "Since `keyword_args` is always `True` when called by `_check_kwarg_types()`, the second line can be read as:\n",
    "\n",
    "*if the argument is not `None`*\n",
    "\n",
    "Thus the `if` statement will raise an `AttributeError` with the appropriate message for a keyword argument in `__init__()` if the argument is not of the type specified in the `checks` dictionary of `_check_kwarg_types()` and the argument is not `None`\n",
    "\n",
    "### `_check_arg_vals()` and `ledger.transact_types`\n",
    "As for the actual contents of the arguments, there are additional checks on arguments passed to `__init__()`. For example, the `total_amount` of a transaction is assumed to be a positive value as defined in `_check_arg_vals()`:"
   ]
  },
  {
   "cell_type": "code",
   "execution_count": 22,
   "metadata": {},
   "outputs": [],
   "source": [
    "class Transaction:\n",
    "...\n",
    "    def _check_arg_vals(self, total_amount, transact_type):\n",
    "        \"\"\"Verify positional argument values are valid\"\"\"\n",
    "        # Order-dependent list of checks and failure message to report\n",
    "        # if condition is true\n",
    "        checks = [(total_amount < 0, \"total_amount negative\"),\n",
    "                  (transact_type not in transact_types, \"transact_type type\")]\n",
    "        self._check_vals(checks)\n",
    "..."
   ]
  },
  {
   "cell_type": "markdown",
   "metadata": {},
   "source": [
    "In this private method checker function, the `checks` data structure is a list of tuples containing:\n",
    "1. A condition that specifies invalid data\n",
    "2. A message associated with the invalid data condition\n",
    "\n",
    "Note that the `transact_type` must be in the `transact_types` [global variable](https://docs.python.org/3/tutorial/modules.html#more-on-modules) of ledger.py:"
   ]
  },
  {
   "cell_type": "code",
   "execution_count": null,
   "metadata": {},
   "outputs": [],
   "source": [
    "# Contents of ledger.py\n",
    "import datetime\n",
    "from typing import Union\n",
    "\n",
    "transact_types = set(['Bank transfer', 'Buy', 'Dividends', 'Fees', 'Sell'])\n",
    "\n",
    "class Transaction:\n",
    "..."
   ]
  },
  {
   "cell_type": "markdown",
   "metadata": {},
   "source": [
    "Thus it is enforced that a transaction type is either `'Bank transfer'`, `'Buy'`, etc. The `_check_arg_vals()` method calls `_check_vals()`:\n",
    "\n",
    "### `_check_vals()`"
   ]
  },
  {
   "cell_type": "code",
   "execution_count": 21,
   "metadata": {},
   "outputs": [],
   "source": [
    "class Transaction:\n",
    "...\n",
    "    def _check_vals(self, checks):\n",
    "        \"\"\"Verify positional/keyword arguments have reasonable vals\"\"\"\n",
    "        # Order-dependent list of checks and failure message to report\n",
    "        # if condition is true\n",
    "        for check, error_message in checks:\n",
    "            if True == check:\n",
    "                raise ValueError(error_message)\n",
    "..."
   ]
  },
  {
   "cell_type": "markdown",
   "metadata": {},
   "source": [
    "`_check_vals()` simply loops over the `checks` list and raises a `ValueError` with the resultant message as assigned in `_check_arg_vals()`\n",
    "\n",
    "### `_check_kwarg_vals()`\n",
    "`_check_kwarg_vals()` composes a `checks` list similar to that of `_check_arg_vals()` and calls `_check_vals()` in the same way:"
   ]
  },
  {
   "cell_type": "code",
   "execution_count": 23,
   "metadata": {},
   "outputs": [],
   "source": [
    "class Transaction:\n",
    "...\n",
    "    def _check_kwarg_vals(self, transact_type, symbol, num_shares):\n",
    "        \"\"\"Check that keyword argument values are valid\"\"\"\n",
    "        # Order-dependent list of checks and failure message to report\n",
    "        # if condition is true\n",
    "        checks = [\n",
    "            (symbol is not None and (len(symbol) == 0 or symbol.isspace()),\n",
    "                \"blank symbol\"),\n",
    "            (transact_type == 'Bank transfer' and symbol is not None,\n",
    "                \"bank transfer has symbol\"),\n",
    "            (transact_type != 'Bank transfer' and symbol is None,\n",
    "                \"symbol missing\"),\n",
    "            (symbol is None and num_shares is not None,\n",
    "                \"num_shares should be None\"),\n",
    "            (symbol is not None and num_shares is None, \"num_shares missing\"),\n",
    "            (num_shares is not None and num_shares <= 0,\n",
    "                \"non-positive num_shares\")]\n",
    "        self._check_vals(checks)\n",
    "..."
   ]
  },
  {
   "cell_type": "markdown",
   "metadata": {},
   "source": [
    "Note that there are more diverse checks in `_check_kwarg_vals()` than in `_check_arg_vals()`, explained as follows:\n",
    "1. A symbol must have non-whitespace text if it is not `None`\n",
    "2. A bank transfer can not have an associated symbol\n",
    "3. A symbol must be associated with a transaction that is not a bank transfer\n",
    "4. A transaction without a symbol can not have a number of shares\n",
    "5. A transaction with a symbol must have a number of shares defined\n",
    "6. If a transaction has a defined number of shares, the value must be positive"
   ]
  },
  {
   "cell_type": "code",
   "execution_count": null,
   "metadata": {},
   "outputs": [],
   "source": []
  }
 ],
 "metadata": {
  "kernelspec": {
   "display_name": "Python 3",
   "language": "python",
   "name": "python3"
  },
  "language_info": {
   "codemirror_mode": {
    "name": "ipython",
    "version": 3
   },
   "file_extension": ".py",
   "mimetype": "text/x-python",
   "name": "python",
   "nbconvert_exporter": "python",
   "pygments_lexer": "ipython3",
   "version": "3.7.0"
  }
 },
 "nbformat": 4,
 "nbformat_minor": 2
}
