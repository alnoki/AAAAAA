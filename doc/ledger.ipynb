{
 "cells": [
  {
   "cell_type": "markdown",
   "metadata": {},
   "source": [
    "# The Transaction class\n",
    "## Main components of a transaction\n",
    "A transaction constitutes the fundamental component of a quantitative trading architecture. A transaction can be defined as an object with the following attributes:\n",
    "1. Date\n",
    "2. Ticker symbol\n",
    "3. Number of shares\n",
    "4. Total transaction amount\n",
    "5. Transaction type\n",
    "6. Description\n",
    "\n",
    "## Additional implications\n",
    "The following considerations will be discussed later:\n",
    "1. The per share amount in a transaction can be derived from the total transaction amount and the number of shares\n",
    "2. A ticker symbol does not always have to be associated with a transaction. This behavior is present in a bank transfer of cash into or out of a brokerage account\n",
    "\n",
    "## Defining the transaction class\n",
    "Assume first that the initialized transaction contains no actual information. This is a defensive coding practice that motivates the use of the None as the default value for all attributes. The expected data type of each of the class attributes is included as a comment, and because the datetime.date class is needed, the datetime library is imported"
   ]
  },
  {
   "cell_type": "code",
   "execution_count": 14,
   "metadata": {},
   "outputs": [],
   "source": [
    "import datetime\n",
    "class Transaction:\n",
    "    \"\"\"\n",
    "    Represents a bank transfer, buy, dividends, fee, or sell\n",
    "    \"\"\"\n",
    "    def __init__(self, date=None, symbol=None, num_shares=None,\n",
    "                 total_amount=None, transact_type=None, description=None):\n",
    "        self.date = date  # Should be datetime.date class\n",
    "        self.symbol = symbol  # Should be string\n",
    "        self.num_shares = num_shares  # Should be integer\n",
    "        self.total_amount = total_amount  # Should be float\n",
    "        self.transact_type = transact_type  # Should be string\n",
    "        self.description = description  # Should be string"
   ]
  },
  {
   "cell_type": "markdown",
   "metadata": {},
   "source": [
    "# Several demonstrative transactions\n",
    "Consider the following theoretical transactions:\n",
    "1. The purchase of 20 shares of Apple stock at a total price of \\\\$4000, placed on October 10th of 2018. Note that a price of \\\\$200 per share can be calculated from this information.\n",
    "2. A bank transfer of \\\\$500 into a brokerage account on June 9th of 2019. Note that this transaction does not include a ticker symbol and as such the None keyword is used to intialize the bank transfer transaction object."
   ]
  },
  {
   "cell_type": "code",
   "execution_count": 15,
   "metadata": {},
   "outputs": [],
   "source": [
    "t1 = Transaction(datetime.date(2018, 10, 12), 'AAPL', 20, 4000, 'Buy', \"Apple market buy\")\n",
    "t2 = Transaction(datetime.date(2019, 6, 9), None, 500, \"Bank transfer\", \"Transfer to brokerage account\")"
   ]
  },
  {
   "cell_type": "code",
   "execution_count": 16,
   "metadata": {},
   "outputs": [
    {
     "name": "stdout",
     "output_type": "stream",
     "text": [
      "2018-10-12 AAPL 20 4000 Buy Apple market buy\n",
      "2019-06-09 None 500 Bank transfer Transfer to brokerage account None\n"
     ]
    }
   ],
   "source": [
    "print(t1.date, t1.symbol, t1.num_shares, t1.total_amount, t1.transact_type, t1.description)\n",
    "print(t2.date, t2.symbol, t2.num_shares, t2.total_amount, t2.transact_type, t2.description)"
   ]
  },
  {
   "cell_type": "markdown",
   "metadata": {},
   "source": [
    "# TODO:\n",
    "1. Use a pandas dataframe(?) to show the transactions in a table\n",
    "2. Write the test code based upon the demonstrative transactions. The first steps should be simply that the data is returned. Add in some test cases for extra nones, etc."
   ]
  },
  {
   "cell_type": "code",
   "execution_count": null,
   "metadata": {},
   "outputs": [],
   "source": []
  }
 ],
 "metadata": {
  "kernelspec": {
   "display_name": "Python 3",
   "language": "python",
   "name": "python3"
  },
  "language_info": {
   "codemirror_mode": {
    "name": "ipython",
    "version": 3
   },
   "file_extension": ".py",
   "mimetype": "text/x-python",
   "name": "python",
   "nbconvert_exporter": "python",
   "pygments_lexer": "ipython3",
   "version": "3.7.0"
  }
 },
 "nbformat": 4,
 "nbformat_minor": 2
}
