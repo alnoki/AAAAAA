{
 "cells": [
  {
   "cell_type": "markdown",
   "metadata": {},
   "source": [
    "# The Transaction class\n",
    "## Main components of a transaction\n",
    "A transaction constitutes the fundamental component of a quantitative trading architecture. A transaction can be defined as an object with the following attributes:\n",
    "1. Date\n",
    "2. Ticker symbol\n",
    "3. Number of shares\n",
    "4. Total transaction amount\n",
    "5. Transaction type\n",
    "6. Description\n",
    "\n",
    "## Additional implications\n",
    "The following considerations will be discussed later:\n",
    "1. The per share amount in a transaction can be derived from the total transaction amount and the number of shares\n",
    "2. A ticker symbol does not always have to be associated with a transaction. This behavior is present in a bank transfer of cash into or out of a brokerage account\n",
    "\n",
    "## Defining the transaction class\n",
    "Assume first that the initialized transaction contains no actual information. This is a defensive coding practice that motivates the use of the None as the default value for all attributes. The expected data type of each of the class attributes is included as a comment, and because the datetime.date class is needed, the datetime library is imported. The expected types are identified via the function annotations in the definition line"
   ]
  },
  {
   "cell_type": "code",
   "execution_count": 1,
   "metadata": {},
   "outputs": [],
   "source": [
    "import datetime\n",
    "class Transaction:\n",
    "    \"\"\"Represents a bank transfer, buy, dividends, fee, or sell\"\"\"\n",
    "    def __init__(self, date: datetime.date = None, symbol: str = None,\n",
    "                 num_shares: int = None, total_amount: float = None,\n",
    "                 transact_type: str = None, description: str = None):\n",
    "        self.date = date\n",
    "        self.symbol = symbol\n",
    "        self.num_shares = num_shares\n",
    "        self.total_amount = total_amount\n",
    "        self.transact_type = transact_type\n",
    "        self.description = description"
   ]
  },
  {
   "cell_type": "markdown",
   "metadata": {},
   "source": [
    "# Several demonstrative transactions\n",
    "Consider the following theoretical transactions:\n",
    "1. The purchase of 20 shares of Apple stock at a total price of \\\\$4000, placed on October 10th of 2018. Note that a price of \\\\$200 per share can be calculated from this information.\n",
    "2. A bank transfer of \\\\$500 into a brokerage account on June 9th of 2019. Note that this transaction does not include a ticker symbol and as such the None keyword is used to intialize the bank transfer transaction object."
   ]
  },
  {
   "cell_type": "code",
   "execution_count": 9,
   "metadata": {},
   "outputs": [],
   "source": [
    "t0 = Transaction(datetime.date(2018, 10, 12),\n",
    "                 'AAPL', 20, 4000, 'Buy', \"Apple market buy\")\n",
    "t1 = Transaction(datetime.date(2019, 6, 9),\n",
    "                 None, None, 500, \"Bank transfer\",\n",
    "                 \"Transfer from Chase\")"
   ]
  },
  {
   "cell_type": "code",
   "execution_count": 11,
   "metadata": {},
   "outputs": [
    {
     "data": {
      "text/html": [
       "<div>\n",
       "<style scoped>\n",
       "    .dataframe tbody tr th:only-of-type {\n",
       "        vertical-align: middle;\n",
       "    }\n",
       "\n",
       "    .dataframe tbody tr th {\n",
       "        vertical-align: top;\n",
       "    }\n",
       "\n",
       "    .dataframe thead th {\n",
       "        text-align: right;\n",
       "    }\n",
       "</style>\n",
       "<table border=\"1\" class=\"dataframe\">\n",
       "  <thead>\n",
       "    <tr style=\"text-align: right;\">\n",
       "      <th></th>\n",
       "      <th>date</th>\n",
       "      <th>symbol</th>\n",
       "      <th>num_shares</th>\n",
       "      <th>total_amount</th>\n",
       "      <th>transact_type</th>\n",
       "      <th>description</th>\n",
       "    </tr>\n",
       "  </thead>\n",
       "  <tbody>\n",
       "    <tr>\n",
       "      <th>0</th>\n",
       "      <td>2018-10-12</td>\n",
       "      <td>AAPL</td>\n",
       "      <td>20.0</td>\n",
       "      <td>4000</td>\n",
       "      <td>Buy</td>\n",
       "      <td>Apple market buy</td>\n",
       "    </tr>\n",
       "    <tr>\n",
       "      <th>1</th>\n",
       "      <td>2019-06-09</td>\n",
       "      <td>None</td>\n",
       "      <td>NaN</td>\n",
       "      <td>500</td>\n",
       "      <td>Bank transfer</td>\n",
       "      <td>Transfer from Chase</td>\n",
       "    </tr>\n",
       "  </tbody>\n",
       "</table>\n",
       "</div>"
      ],
      "text/plain": [
       "         date symbol  num_shares  total_amount  transact_type  \\\n",
       "0  2018-10-12   AAPL        20.0          4000            Buy   \n",
       "1  2019-06-09   None         NaN           500  Bank transfer   \n",
       "\n",
       "           description  \n",
       "0     Apple market buy  \n",
       "1  Transfer from Chase  "
      ]
     },
     "execution_count": 11,
     "metadata": {},
     "output_type": "execute_result"
    }
   ],
   "source": [
    "import pandas as pd\n",
    "labels = ['date', 'symbol','num_shares', 'total_amount',\n",
    "          'transact_type', 'description']\n",
    "df = pd.DataFrame([(t0.date, t0.symbol, t0.num_shares,\n",
    "                    t0.total_amount, t0.transact_type, t0.description),\n",
    "                   (t1.date, t1.symbol, t1.num_shares,\n",
    "                    t1.total_amount, t1.transact_type, t1.description)],\n",
    "                  columns=labels)\n",
    "                    \n",
    "df"
   ]
  },
  {
   "cell_type": "markdown",
   "metadata": {},
   "source": [
    "# TODO:\n",
    "Complete unit test, add in a test case that is just fees"
   ]
  },
  {
   "cell_type": "code",
   "execution_count": null,
   "metadata": {},
   "outputs": [],
   "source": []
  }
 ],
 "metadata": {
  "kernelspec": {
   "display_name": "Python 3",
   "language": "python",
   "name": "python3"
  },
  "language_info": {
   "codemirror_mode": {
    "name": "ipython",
    "version": 3
   },
   "file_extension": ".py",
   "mimetype": "text/x-python",
   "name": "python",
   "nbconvert_exporter": "python",
   "pygments_lexer": "ipython3",
   "version": "3.7.0"
  }
 },
 "nbformat": 4,
 "nbformat_minor": 2
}
