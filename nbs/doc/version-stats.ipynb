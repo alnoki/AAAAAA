{
 "cells": [
  {
   "cell_type": "markdown",
   "metadata": {
    "toc": true
   },
   "source": [
    "<h1>Table of Contents<span class=\"tocSkip\"></span></h1>\n",
    "<div class=\"toc\"><ul class=\"toc-item\"><li><span><a href=\"#Definitions\" data-toc-modified-id=\"Definitions-1\"><span class=\"toc-item-num\">1&nbsp;&nbsp;</span>Definitions</a></span><ul class=\"toc-item\"><li><span><a href=\"#Imports\" data-toc-modified-id=\"Imports-1.1\"><span class=\"toc-item-num\">1.1&nbsp;&nbsp;</span>Imports</a></span></li><li><span><a href=\"#Fields\" data-toc-modified-id=\"Fields-1.2\"><span class=\"toc-item-num\">1.2&nbsp;&nbsp;</span>Fields</a></span></li><li><span><a href=\"#DataFrame-structure\" data-toc-modified-id=\"DataFrame-structure-1.3\"><span class=\"toc-item-num\">1.3&nbsp;&nbsp;</span>DataFrame structure</a></span></li></ul></li><li><span><a href=\"#Version-metadata\" data-toc-modified-id=\"Version-metadata-2\"><span class=\"toc-item-num\">2&nbsp;&nbsp;</span>Version metadata</a></span><ul class=\"toc-item\"><li><span><a href=\"#v0.1.0\" data-toc-modified-id=\"v0.1.0-2.1\"><span class=\"toc-item-num\">2.1&nbsp;&nbsp;</span>v0.1.0</a></span></li><li><span><a href=\"#v0.2.0\" data-toc-modified-id=\"v0.2.0-2.2\"><span class=\"toc-item-num\">2.2&nbsp;&nbsp;</span>v0.2.0</a></span></li><li><span><a href=\"#v0.3.0\" data-toc-modified-id=\"v0.3.0-2.3\"><span class=\"toc-item-num\">2.3&nbsp;&nbsp;</span>v0.3.0</a></span></li><li><span><a href=\"#v0.3.1\" data-toc-modified-id=\"v0.3.1-2.4\"><span class=\"toc-item-num\">2.4&nbsp;&nbsp;</span>v0.3.1</a></span></li><li><span><a href=\"#v0.4.0\" data-toc-modified-id=\"v0.4.0-2.5\"><span class=\"toc-item-num\">2.5&nbsp;&nbsp;</span>v0.4.0</a></span></li><li><span><a href=\"#v0.5.0\" data-toc-modified-id=\"v0.5.0-2.6\"><span class=\"toc-item-num\">2.6&nbsp;&nbsp;</span>v0.5.0</a></span></li></ul></li><li><span><a href=\"#Post-processing\" data-toc-modified-id=\"Post-processing-3\"><span class=\"toc-item-num\">3&nbsp;&nbsp;</span>Post processing</a></span><ul class=\"toc-item\"><li><span><a href=\"#MetaDataFrame\" data-toc-modified-id=\"MetaDataFrame-3.1\"><span class=\"toc-item-num\">3.1&nbsp;&nbsp;</span>MetaDataFrame</a></span></li><li><span><a href=\"#reStructuredText-csv-table-output\" data-toc-modified-id=\"reStructuredText-csv-table-output-3.2\"><span class=\"toc-item-num\">3.2&nbsp;&nbsp;</span>reStructuredText csv-table output</a></span></li></ul></li></ul></div>"
   ]
  },
  {
   "cell_type": "markdown",
   "metadata": {},
   "source": [
    "# Definitions"
   ]
  },
  {
   "cell_type": "markdown",
   "metadata": {},
   "source": [
    "## Imports"
   ]
  },
  {
   "cell_type": "code",
   "execution_count": 1,
   "metadata": {},
   "outputs": [],
   "source": [
    "import dateutil.parser\n",
    "import pandas as pd"
   ]
  },
  {
   "cell_type": "markdown",
   "metadata": {},
   "source": [
    "## Fields"
   ]
  },
  {
   "cell_type": "code",
   "execution_count": 2,
   "metadata": {},
   "outputs": [],
   "source": [
    "# Maps from a concise DataFrame name to .rst description\n",
    "fields ={\n",
    "    # ISO8601\n",
    "    'when': \":wiki-pg:`Time` of :xref:`release <semver>`\",\n",
    "    \n",
    "    # Version number\n",
    "    'v_num': \":xref:`Number <semver>`\",\n",
    "    \n",
    "    # Version release type (major/minor/patch)\n",
    "    'r_type': \":xref:`Type <semver>`\",\n",
    "\n",
    "    # Total number of commmits at time of release\n",
    "    't_cmts': \"# of :ref:`commits <tools-git>`\",\n",
    "\n",
    "    # PDF Page Proliferation\n",
    "    'PPP': ':term:`PPP`',\n",
    "\n",
    "    # Aggregate Acronym Accrual\n",
    "    'AAA': ':term:`AAA`',\n",
    "}"
   ]
  },
  {
   "cell_type": "markdown",
   "metadata": {},
   "source": [
    "## DataFrame structure"
   ]
  },
  {
   "cell_type": "code",
   "execution_count": 3,
   "metadata": {},
   "outputs": [
    {
     "data": {
      "text/html": [
       "<div>\n",
       "<style scoped>\n",
       "    .dataframe tbody tr th:only-of-type {\n",
       "        vertical-align: middle;\n",
       "    }\n",
       "\n",
       "    .dataframe tbody tr th {\n",
       "        vertical-align: top;\n",
       "    }\n",
       "\n",
       "    .dataframe thead th {\n",
       "        text-align: right;\n",
       "    }\n",
       "</style>\n",
       "<table border=\"1\" class=\"dataframe\">\n",
       "  <thead>\n",
       "    <tr style=\"text-align: right;\">\n",
       "      <th></th>\n",
       "      <th>when</th>\n",
       "      <th>v_num</th>\n",
       "      <th>r_type</th>\n",
       "      <th>t_cmts</th>\n",
       "      <th>PPP</th>\n",
       "      <th>AAA</th>\n",
       "    </tr>\n",
       "  </thead>\n",
       "  <tbody>\n",
       "  </tbody>\n",
       "</table>\n",
       "</div>"
      ],
      "text/plain": [
       "Empty DataFrame\n",
       "Columns: [when, v_num, r_type, t_cmts, PPP, AAA]\n",
       "Index: []"
      ]
     },
     "execution_count": 3,
     "metadata": {},
     "output_type": "execute_result"
    }
   ],
   "source": [
    "df = pd.DataFrame(columns=fields.keys())\n",
    "df"
   ]
  },
  {
   "cell_type": "markdown",
   "metadata": {},
   "source": [
    "# Version metadata"
   ]
  },
  {
   "cell_type": "markdown",
   "metadata": {},
   "source": [
    "## v0.1.0"
   ]
  },
  {
   "cell_type": "code",
   "execution_count": 4,
   "metadata": {},
   "outputs": [],
   "source": [
    "df = df.append({\n",
    "    'when': dateutil.parser.parse('2019-01-31T02:57:50Z'),\n",
    "    'v_num' : '0.1.0',\n",
    "    't_cmts' : '67',\n",
    "    'PPP' : '49',\n",
    "    'AAA' : '2', # AAAAAA, AIPAIP\n",
    "    'r_type': 'minor',\n",
    "    }, ignore_index=True)"
   ]
  },
  {
   "cell_type": "markdown",
   "metadata": {},
   "source": [
    "## v0.2.0"
   ]
  },
  {
   "cell_type": "code",
   "execution_count": 5,
   "metadata": {},
   "outputs": [],
   "source": [
    "df = df.append({\n",
    "    'when': dateutil.parser.parse('2019-02-09T05:24:35Z'),\n",
    "    'v_num' : '0.2.0',\n",
    "    't_cmts' : '77',\n",
    "    'PPP' : '55',\n",
    "    'AAA' : '3', # AAAAAA, AIPAIP, EEEE\n",
    "    'r_type': 'minor',\n",
    "    }, ignore_index=True)"
   ]
  },
  {
   "cell_type": "markdown",
   "metadata": {},
   "source": [
    "## v0.3.0"
   ]
  },
  {
   "cell_type": "code",
   "execution_count": 6,
   "metadata": {},
   "outputs": [],
   "source": [
    "df = df.append({\n",
    "    'when': dateutil.parser.parse('2019-02-17T18:45:27Z'),\n",
    "    'v_num' : '0.3.0',\n",
    "    't_cmts' : '96',\n",
    "    'PPP' : '73',\n",
    "    'AAA' : '7', # AAAAAA, AIPAIP, CCC, EEEE, OHIO, POP, TDTDTD\n",
    "    'r_type': 'minor',\n",
    "    }, ignore_index=True)"
   ]
  },
  {
   "cell_type": "markdown",
   "metadata": {},
   "source": [
    "## v0.3.1"
   ]
  },
  {
   "cell_type": "code",
   "execution_count": 7,
   "metadata": {},
   "outputs": [],
   "source": [
    "df = df.append({\n",
    "    'when': dateutil.parser.parse('2019-02-17T19:41:19Z'),\n",
    "    'v_num' : '0.3.1',\n",
    "    't_cmts' : '98',\n",
    "    'PPP' : '73',\n",
    "    'AAA' : '7', # AAAAAA, AIPAIP, CCC, EEEE, OHIO, TDTDTD\n",
    "    'r_type': 'patch',\n",
    "    }, ignore_index=True)"
   ]
  },
  {
   "cell_type": "markdown",
   "metadata": {},
   "source": [
    "## v0.4.0"
   ]
  },
  {
   "cell_type": "code",
   "execution_count": 8,
   "metadata": {},
   "outputs": [],
   "source": [
    "df = df.append({\n",
    "    'when': dateutil.parser.parse('2019-03-21T21:16:05Z'), \n",
    "    'v_num' : '0.4.0',\n",
    "    't_cmts' : '133',\n",
    "    'PPP' : '116',\n",
    "    'AAA' : '10',\n",
    "    'r_type': 'minor',\n",
    "    }, ignore_index=True)"
   ]
  },
  {
   "cell_type": "markdown",
   "metadata": {},
   "source": [
    "## v0.5.0"
   ]
  },
  {
   "cell_type": "code",
   "execution_count": 9,
   "metadata": {},
   "outputs": [],
   "source": [
    "# Make a new box for the next version when filling this in\n",
    "# Simply copy-paste\n",
    "\n",
    "# df = df.append({\n",
    "#     # Exact time unknown\n",
    "#     'when': dateutil.parser.parse('2019-03-21T21:16:05Z'), \n",
    "#     'v_num' : '0.4.0',\n",
    "#     't_cmts' : '133',\n",
    "#     'PPP' : '116',\n",
    "#     'AAA' : '10',\n",
    "#     'r_type': 'minor',\n",
    "#     }, ignore_index=True)"
   ]
  },
  {
   "cell_type": "markdown",
   "metadata": {},
   "source": [
    "# Post processing"
   ]
  },
  {
   "cell_type": "markdown",
   "metadata": {},
   "source": [
    "## MetaDataFrame"
   ]
  },
  {
   "cell_type": "code",
   "execution_count": 10,
   "metadata": {},
   "outputs": [
    {
     "data": {
      "text/html": [
       "<div>\n",
       "<style scoped>\n",
       "    .dataframe tbody tr th:only-of-type {\n",
       "        vertical-align: middle;\n",
       "    }\n",
       "\n",
       "    .dataframe tbody tr th {\n",
       "        vertical-align: top;\n",
       "    }\n",
       "\n",
       "    .dataframe thead th {\n",
       "        text-align: right;\n",
       "    }\n",
       "</style>\n",
       "<table border=\"1\" class=\"dataframe\">\n",
       "  <thead>\n",
       "    <tr style=\"text-align: right;\">\n",
       "      <th></th>\n",
       "      <th>when</th>\n",
       "      <th>v_num</th>\n",
       "      <th>r_type</th>\n",
       "      <th>t_cmts</th>\n",
       "      <th>PPP</th>\n",
       "      <th>AAA</th>\n",
       "    </tr>\n",
       "  </thead>\n",
       "  <tbody>\n",
       "    <tr>\n",
       "      <th>0</th>\n",
       "      <td>2019-01-31 02:57:50+00:00</td>\n",
       "      <td>0.1.0</td>\n",
       "      <td>minor</td>\n",
       "      <td>67</td>\n",
       "      <td>49</td>\n",
       "      <td>2</td>\n",
       "    </tr>\n",
       "    <tr>\n",
       "      <th>1</th>\n",
       "      <td>2019-02-09 05:24:35+00:00</td>\n",
       "      <td>0.2.0</td>\n",
       "      <td>minor</td>\n",
       "      <td>77</td>\n",
       "      <td>55</td>\n",
       "      <td>3</td>\n",
       "    </tr>\n",
       "    <tr>\n",
       "      <th>2</th>\n",
       "      <td>2019-02-17 18:45:27+00:00</td>\n",
       "      <td>0.3.0</td>\n",
       "      <td>minor</td>\n",
       "      <td>96</td>\n",
       "      <td>73</td>\n",
       "      <td>7</td>\n",
       "    </tr>\n",
       "    <tr>\n",
       "      <th>3</th>\n",
       "      <td>2019-02-17 19:41:19+00:00</td>\n",
       "      <td>0.3.1</td>\n",
       "      <td>patch</td>\n",
       "      <td>98</td>\n",
       "      <td>73</td>\n",
       "      <td>7</td>\n",
       "    </tr>\n",
       "    <tr>\n",
       "      <th>4</th>\n",
       "      <td>2019-03-21 21:16:05+00:00</td>\n",
       "      <td>0.4.0</td>\n",
       "      <td>minor</td>\n",
       "      <td>133</td>\n",
       "      <td>116</td>\n",
       "      <td>10</td>\n",
       "    </tr>\n",
       "  </tbody>\n",
       "</table>\n",
       "</div>"
      ],
      "text/plain": [
       "                        when  v_num r_type t_cmts  PPP AAA\n",
       "0  2019-01-31 02:57:50+00:00  0.1.0  minor     67   49   2\n",
       "1  2019-02-09 05:24:35+00:00  0.2.0  minor     77   55   3\n",
       "2  2019-02-17 18:45:27+00:00  0.3.0  minor     96   73   7\n",
       "3  2019-02-17 19:41:19+00:00  0.3.1  patch     98   73   7\n",
       "4  2019-03-21 21:16:05+00:00  0.4.0  minor    133  116  10"
      ]
     },
     "execution_count": 10,
     "metadata": {},
     "output_type": "execute_result"
    }
   ],
   "source": [
    "df"
   ]
  },
  {
   "cell_type": "markdown",
   "metadata": {},
   "source": [
    "## reStructuredText csv-table output"
   ]
  },
  {
   "cell_type": "code",
   "execution_count": 11,
   "metadata": {},
   "outputs": [
    {
     "data": {
      "text/html": [
       "<div>\n",
       "<style scoped>\n",
       "    .dataframe tbody tr th:only-of-type {\n",
       "        vertical-align: middle;\n",
       "    }\n",
       "\n",
       "    .dataframe tbody tr th {\n",
       "        vertical-align: top;\n",
       "    }\n",
       "\n",
       "    .dataframe thead th {\n",
       "        text-align: right;\n",
       "    }\n",
       "</style>\n",
       "<table border=\"1\" class=\"dataframe\">\n",
       "  <thead>\n",
       "    <tr style=\"text-align: right;\">\n",
       "      <th></th>\n",
       "      <th>:xref:`Number &lt;semver&gt;`</th>\n",
       "      <th>:xref:`Type &lt;semver&gt;`</th>\n",
       "      <th># of :ref:`commits &lt;tools-git&gt;`</th>\n",
       "      <th>:term:`PPP`</th>\n",
       "      <th>:term:`AAA`</th>\n",
       "    </tr>\n",
       "    <tr>\n",
       "      <th>:wiki-pg:`Time` of :xref:`release &lt;semver&gt;`</th>\n",
       "      <th></th>\n",
       "      <th></th>\n",
       "      <th></th>\n",
       "      <th></th>\n",
       "      <th></th>\n",
       "    </tr>\n",
       "  </thead>\n",
       "  <tbody>\n",
       "    <tr>\n",
       "      <th>2019-03-21 21:16:05+00:00</th>\n",
       "      <td>0.4.0</td>\n",
       "      <td>minor</td>\n",
       "      <td>133</td>\n",
       "      <td>116</td>\n",
       "      <td>10</td>\n",
       "    </tr>\n",
       "    <tr>\n",
       "      <th>2019-02-17 19:41:19+00:00</th>\n",
       "      <td>0.3.1</td>\n",
       "      <td>patch</td>\n",
       "      <td>98</td>\n",
       "      <td>73</td>\n",
       "      <td>7</td>\n",
       "    </tr>\n",
       "    <tr>\n",
       "      <th>2019-02-17 18:45:27+00:00</th>\n",
       "      <td>0.3.0</td>\n",
       "      <td>minor</td>\n",
       "      <td>96</td>\n",
       "      <td>73</td>\n",
       "      <td>7</td>\n",
       "    </tr>\n",
       "    <tr>\n",
       "      <th>2019-02-09 05:24:35+00:00</th>\n",
       "      <td>0.2.0</td>\n",
       "      <td>minor</td>\n",
       "      <td>77</td>\n",
       "      <td>55</td>\n",
       "      <td>3</td>\n",
       "    </tr>\n",
       "    <tr>\n",
       "      <th>2019-01-31 02:57:50+00:00</th>\n",
       "      <td>0.1.0</td>\n",
       "      <td>minor</td>\n",
       "      <td>67</td>\n",
       "      <td>49</td>\n",
       "      <td>2</td>\n",
       "    </tr>\n",
       "  </tbody>\n",
       "</table>\n",
       "</div>"
      ],
      "text/plain": [
       "                                            :xref:`Number <semver>`  \\\n",
       ":wiki-pg:`Time` of :xref:`release <semver>`                           \n",
       "2019-03-21 21:16:05+00:00                                     0.4.0   \n",
       "2019-02-17 19:41:19+00:00                                     0.3.1   \n",
       "2019-02-17 18:45:27+00:00                                     0.3.0   \n",
       "2019-02-09 05:24:35+00:00                                     0.2.0   \n",
       "2019-01-31 02:57:50+00:00                                     0.1.0   \n",
       "\n",
       "                                            :xref:`Type <semver>`  \\\n",
       ":wiki-pg:`Time` of :xref:`release <semver>`                         \n",
       "2019-03-21 21:16:05+00:00                                   minor   \n",
       "2019-02-17 19:41:19+00:00                                   patch   \n",
       "2019-02-17 18:45:27+00:00                                   minor   \n",
       "2019-02-09 05:24:35+00:00                                   minor   \n",
       "2019-01-31 02:57:50+00:00                                   minor   \n",
       "\n",
       "                                            # of :ref:`commits <tools-git>`  \\\n",
       ":wiki-pg:`Time` of :xref:`release <semver>`                                   \n",
       "2019-03-21 21:16:05+00:00                                               133   \n",
       "2019-02-17 19:41:19+00:00                                                98   \n",
       "2019-02-17 18:45:27+00:00                                                96   \n",
       "2019-02-09 05:24:35+00:00                                                77   \n",
       "2019-01-31 02:57:50+00:00                                                67   \n",
       "\n",
       "                                            :term:`PPP` :term:`AAA`  \n",
       ":wiki-pg:`Time` of :xref:`release <semver>`                          \n",
       "2019-03-21 21:16:05+00:00                           116          10  \n",
       "2019-02-17 19:41:19+00:00                            73           7  \n",
       "2019-02-17 18:45:27+00:00                            73           7  \n",
       "2019-02-09 05:24:35+00:00                            55           3  \n",
       "2019-01-31 02:57:50+00:00                            49           2  "
      ]
     },
     "execution_count": 11,
     "metadata": {},
     "output_type": "execute_result"
    }
   ],
   "source": [
    "# Insert reST text for column names\n",
    "csv_df = df.rename(index=str, columns=fields)\n",
    "# Higher version numbers at top\n",
    "csv_df.sort_index(inplace=True, ascending=False)\n",
    "# Have 'when' be on left side of table\n",
    "csv_df.set_index(fields['when'], inplace=True)\n",
    "csv_df"
   ]
  },
  {
   "cell_type": "code",
   "execution_count": 12,
   "metadata": {},
   "outputs": [],
   "source": [
    "csv_df.to_csv('version-stats.csv')"
   ]
  }
 ],
 "metadata": {
  "kernelspec": {
   "display_name": "Python 3",
   "language": "python",
   "name": "python3"
  },
  "language_info": {
   "codemirror_mode": {
    "name": "ipython",
    "version": 3
   },
   "file_extension": ".py",
   "mimetype": "text/x-python",
   "name": "python",
   "nbconvert_exporter": "python",
   "pygments_lexer": "ipython3",
   "version": "3.7.2"
  },
  "toc": {
   "base_numbering": 1,
   "nav_menu": {},
   "number_sections": true,
   "sideBar": true,
   "skip_h1_title": false,
   "title_cell": "Table of Contents",
   "title_sidebar": "Contents",
   "toc_cell": true,
   "toc_position": {},
   "toc_section_display": true,
   "toc_window_display": false
  },
  "varInspector": {
   "cols": {
    "lenName": 16,
    "lenType": 16,
    "lenVar": 40
   },
   "kernels_config": {
    "python": {
     "delete_cmd_postfix": "",
     "delete_cmd_prefix": "del ",
     "library": "var_list.py",
     "varRefreshCmd": "print(var_dic_list())"
    },
    "r": {
     "delete_cmd_postfix": ") ",
     "delete_cmd_prefix": "rm(",
     "library": "var_list.r",
     "varRefreshCmd": "cat(var_dic_list()) "
    }
   },
   "types_to_exclude": [
    "module",
    "function",
    "builtin_function_or_method",
    "instance",
    "_Feature"
   ],
   "window_display": false
  }
 },
 "nbformat": 4,
 "nbformat_minor": 2
}
