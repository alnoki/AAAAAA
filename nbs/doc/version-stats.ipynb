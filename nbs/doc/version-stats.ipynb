{
 "cells": [
  {
   "cell_type": "markdown",
   "metadata": {
    "toc": true
   },
   "source": [
    "<h1>Table of Contents<span class=\"tocSkip\"></span></h1>\n",
    "<div class=\"toc\"><ul class=\"toc-item\"><li><span><a href=\"#Definitions\" data-toc-modified-id=\"Definitions-1\"><span class=\"toc-item-num\">1&nbsp;&nbsp;</span>Definitions</a></span><ul class=\"toc-item\"><li><span><a href=\"#Imports\" data-toc-modified-id=\"Imports-1.1\"><span class=\"toc-item-num\">1.1&nbsp;&nbsp;</span>Imports</a></span></li><li><span><a href=\"#DataFrame-structure\" data-toc-modified-id=\"DataFrame-structure-1.2\"><span class=\"toc-item-num\">1.2&nbsp;&nbsp;</span>DataFrame structure</a></span></li></ul></li><li><span><a href=\"#Version-metadata\" data-toc-modified-id=\"Version-metadata-2\"><span class=\"toc-item-num\">2&nbsp;&nbsp;</span>Version metadata</a></span><ul class=\"toc-item\"><li><span><a href=\"#v0.1.0\" data-toc-modified-id=\"v0.1.0-2.1\"><span class=\"toc-item-num\">2.1&nbsp;&nbsp;</span>v0.1.0</a></span></li><li><span><a href=\"#v0.2.0\" data-toc-modified-id=\"v0.2.0-2.2\"><span class=\"toc-item-num\">2.2&nbsp;&nbsp;</span>v0.2.0</a></span></li><li><span><a href=\"#v0.3.0\" data-toc-modified-id=\"v0.3.0-2.3\"><span class=\"toc-item-num\">2.3&nbsp;&nbsp;</span>v0.3.0</a></span></li><li><span><a href=\"#v0.3.1\" data-toc-modified-id=\"v0.3.1-2.4\"><span class=\"toc-item-num\">2.4&nbsp;&nbsp;</span>v0.3.1</a></span></li><li><span><a href=\"#v0.4.0\" data-toc-modified-id=\"v0.4.0-2.5\"><span class=\"toc-item-num\">2.5&nbsp;&nbsp;</span>v0.4.0</a></span></li></ul></li><li><span><a href=\"#Post-processing\" data-toc-modified-id=\"Post-processing-3\"><span class=\"toc-item-num\">3&nbsp;&nbsp;</span>Post processing</a></span><ul class=\"toc-item\"><li><span><a href=\"#Using-date-as-index\" data-toc-modified-id=\"Using-date-as-index-3.1\"><span class=\"toc-item-num\">3.1&nbsp;&nbsp;</span>Using date as index</a></span></li><li><span><a href=\"#reStructuredText-csv-table-output\" data-toc-modified-id=\"reStructuredText-csv-table-output-3.2\"><span class=\"toc-item-num\">3.2&nbsp;&nbsp;</span>reStructuredText csv-table output</a></span></li></ul></li></ul></div>"
   ]
  },
  {
   "cell_type": "markdown",
   "metadata": {},
   "source": [
    "# Definitions"
   ]
  },
  {
   "cell_type": "markdown",
   "metadata": {},
   "source": [
    "## Imports"
   ]
  },
  {
   "cell_type": "code",
   "execution_count": 1,
   "metadata": {},
   "outputs": [],
   "source": [
    "import dateutil.parser\n",
    "import pandas as pd"
   ]
  },
  {
   "cell_type": "markdown",
   "metadata": {},
   "source": [
    "## DataFrame structure"
   ]
  },
  {
   "cell_type": "code",
   "execution_count": 2,
   "metadata": {},
   "outputs": [
    {
     "data": {
      "text/html": [
       "<div>\n",
       "<style scoped>\n",
       "    .dataframe tbody tr th:only-of-type {\n",
       "        vertical-align: middle;\n",
       "    }\n",
       "\n",
       "    .dataframe tbody tr th {\n",
       "        vertical-align: top;\n",
       "    }\n",
       "\n",
       "    .dataframe thead th {\n",
       "        text-align: right;\n",
       "    }\n",
       "</style>\n",
       "<table border=\"1\" class=\"dataframe\">\n",
       "  <thead>\n",
       "    <tr style=\"text-align: right;\">\n",
       "      <th></th>\n",
       "      <th>when</th>\n",
       "      <th>v_num</th>\n",
       "      <th>t_cmts</th>\n",
       "      <th>PPP</th>\n",
       "      <th>AAA</th>\n",
       "      <th>r_type</th>\n",
       "    </tr>\n",
       "  </thead>\n",
       "  <tbody>\n",
       "  </tbody>\n",
       "</table>\n",
       "</div>"
      ],
      "text/plain": [
       "Empty DataFrame\n",
       "Columns: [when, v_num, t_cmts, PPP, AAA, r_type]\n",
       "Index: []"
      ]
     },
     "execution_count": 2,
     "metadata": {},
     "output_type": "execute_result"
    }
   ],
   "source": [
    "df = pd.DataFrame(\n",
    "    columns=[\n",
    "        'when',  # ISO8601\n",
    "        'v_num',  # Version number\n",
    "        't_cmts',  # Total number of commmits\n",
    "        'PPP',  # PDF Page Proliferation\n",
    "        'AAA',  # Aggregate Acronym Accrual\n",
    "        'r_type',  # Version release type (major/minor/patch)\n",
    "    ])\n",
    "df"
   ]
  },
  {
   "cell_type": "markdown",
   "metadata": {},
   "source": [
    "# Version metadata"
   ]
  },
  {
   "cell_type": "markdown",
   "metadata": {},
   "source": [
    "## v0.1.0"
   ]
  },
  {
   "cell_type": "code",
   "execution_count": 3,
   "metadata": {},
   "outputs": [],
   "source": [
    "df = df.append({\n",
    "    'when': dateutil.parser.parse('2019-01-31T02:57:50Z'),\n",
    "    'v_num' : '0.1.0',\n",
    "    't_cmts' : '67',\n",
    "    'PPP' : '45',\n",
    "    'AAA' : '2', # AAAAAA, AIPAIP\n",
    "    'r_type': 'minor',\n",
    "    }, ignore_index=True)"
   ]
  },
  {
   "cell_type": "markdown",
   "metadata": {},
   "source": [
    "## v0.2.0"
   ]
  },
  {
   "cell_type": "code",
   "execution_count": 4,
   "metadata": {},
   "outputs": [],
   "source": [
    "df = df.append({\n",
    "    'when': dateutil.parser.parse('2019-02-09T05:24:35Z'),\n",
    "    'v_num' : '0.2.0',\n",
    "    't_cmts' : '77',\n",
    "    'PPP' : '51',\n",
    "    'AAA' : '3', # AAAAAA, AIPAIP, EEEE\n",
    "    'r_type': 'minor',\n",
    "    }, ignore_index=True)"
   ]
  },
  {
   "cell_type": "markdown",
   "metadata": {},
   "source": [
    "## v0.3.0"
   ]
  },
  {
   "cell_type": "code",
   "execution_count": 5,
   "metadata": {},
   "outputs": [],
   "source": [
    "df = df.append({\n",
    "    'when': dateutil.parser.parse('2019-02-17T18:45:27Z'),\n",
    "    'v_num' : '0.3.0',\n",
    "    't_cmts' : '96',\n",
    "    'PPP' : '69',\n",
    "    'AAA' : '6', # AAAAAA, AIPAIP, CCC, EEEE, OHIO, POP\n",
    "    'r_type': 'minor',\n",
    "    }, ignore_index=True)"
   ]
  },
  {
   "cell_type": "markdown",
   "metadata": {},
   "source": [
    "## v0.3.1"
   ]
  },
  {
   "cell_type": "code",
   "execution_count": 6,
   "metadata": {},
   "outputs": [],
   "source": [
    "df = df.append({\n",
    "    'when': dateutil.parser.parse('2019-02-17T19:41:19Z'),\n",
    "    'v_num' : '0.3.1',\n",
    "    't_cmts' : '98',\n",
    "    'PPP' : '69',\n",
    "    'AAA' : '6', # AAAAAA, AIPAIP, CCC, EEEE, OHIO, POP\n",
    "    'r_type': 'patch',\n",
    "    }, ignore_index=True)"
   ]
  },
  {
   "cell_type": "markdown",
   "metadata": {},
   "source": [
    "## v0.4.0"
   ]
  },
  {
   "cell_type": "code",
   "execution_count": 7,
   "metadata": {},
   "outputs": [],
   "source": [
    "df = df.append({\n",
    "    'when': dateutil.parser.parse('2019-04-01'),\n",
    "    'v_num' : '0.4.0',\n",
    "    't_cmts' : '130',\n",
    "    'PPP' : '115',\n",
    "    'AAA' : '12',\n",
    "    'r_type': 'minor',\n",
    "    }, ignore_index=True)"
   ]
  },
  {
   "cell_type": "markdown",
   "metadata": {},
   "source": [
    "# Post processing"
   ]
  },
  {
   "cell_type": "markdown",
   "metadata": {},
   "source": [
    "## Using date as index"
   ]
  },
  {
   "cell_type": "code",
   "execution_count": 8,
   "metadata": {},
   "outputs": [
    {
     "data": {
      "text/html": [
       "<div>\n",
       "<style scoped>\n",
       "    .dataframe tbody tr th:only-of-type {\n",
       "        vertical-align: middle;\n",
       "    }\n",
       "\n",
       "    .dataframe tbody tr th {\n",
       "        vertical-align: top;\n",
       "    }\n",
       "\n",
       "    .dataframe thead th {\n",
       "        text-align: right;\n",
       "    }\n",
       "</style>\n",
       "<table border=\"1\" class=\"dataframe\">\n",
       "  <thead>\n",
       "    <tr style=\"text-align: right;\">\n",
       "      <th></th>\n",
       "      <th>v_num</th>\n",
       "      <th>t_cmts</th>\n",
       "      <th>PPP</th>\n",
       "      <th>AAA</th>\n",
       "      <th>r_type</th>\n",
       "    </tr>\n",
       "    <tr>\n",
       "      <th>when</th>\n",
       "      <th></th>\n",
       "      <th></th>\n",
       "      <th></th>\n",
       "      <th></th>\n",
       "      <th></th>\n",
       "    </tr>\n",
       "  </thead>\n",
       "  <tbody>\n",
       "    <tr>\n",
       "      <th>2019-04-01 00:00:00</th>\n",
       "      <td>0.4.0</td>\n",
       "      <td>130</td>\n",
       "      <td>115</td>\n",
       "      <td>12</td>\n",
       "      <td>minor</td>\n",
       "    </tr>\n",
       "    <tr>\n",
       "      <th>2019-02-17 19:41:19+00:00</th>\n",
       "      <td>0.3.1</td>\n",
       "      <td>98</td>\n",
       "      <td>69</td>\n",
       "      <td>6</td>\n",
       "      <td>patch</td>\n",
       "    </tr>\n",
       "    <tr>\n",
       "      <th>2019-02-17 18:45:27+00:00</th>\n",
       "      <td>0.3.0</td>\n",
       "      <td>96</td>\n",
       "      <td>69</td>\n",
       "      <td>6</td>\n",
       "      <td>minor</td>\n",
       "    </tr>\n",
       "    <tr>\n",
       "      <th>2019-02-09 05:24:35+00:00</th>\n",
       "      <td>0.2.0</td>\n",
       "      <td>77</td>\n",
       "      <td>51</td>\n",
       "      <td>3</td>\n",
       "      <td>minor</td>\n",
       "    </tr>\n",
       "    <tr>\n",
       "      <th>2019-01-31 02:57:50+00:00</th>\n",
       "      <td>0.1.0</td>\n",
       "      <td>67</td>\n",
       "      <td>45</td>\n",
       "      <td>2</td>\n",
       "      <td>minor</td>\n",
       "    </tr>\n",
       "  </tbody>\n",
       "</table>\n",
       "</div>"
      ],
      "text/plain": [
       "                           v_num t_cmts  PPP AAA r_type\n",
       "when                                                   \n",
       "2019-04-01 00:00:00        0.4.0    130  115  12  minor\n",
       "2019-02-17 19:41:19+00:00  0.3.1     98   69   6  patch\n",
       "2019-02-17 18:45:27+00:00  0.3.0     96   69   6  minor\n",
       "2019-02-09 05:24:35+00:00  0.2.0     77   51   3  minor\n",
       "2019-01-31 02:57:50+00:00  0.1.0     67   45   2  minor"
      ]
     },
     "execution_count": 8,
     "metadata": {},
     "output_type": "execute_result"
    }
   ],
   "source": [
    "df = df.sort_index(ascending=False).set_index('when')\n",
    "df"
   ]
  },
  {
   "cell_type": "markdown",
   "metadata": {},
   "source": [
    "## reStructuredText csv-table output"
   ]
  },
  {
   "cell_type": "code",
   "execution_count": 9,
   "metadata": {},
   "outputs": [],
   "source": [
    "# Generalize this to a mapping dictionary above?\n",
    "# Then can rename and output assorted other tables\n",
    "# For example, subframes like just minor releases, etc\n",
    "csv_df = df.rename(index=str,\n",
    "  columns={\n",
    "      'v_num': \":xref:`Number <semver>`\",\n",
    "      't_cmts': \"# of :ref:`commits <tools-git>`\",\n",
    "      'PPP': ':term:`PPP`',\n",
    "      'AAA': ':term:`AAA`',\n",
    "      'r_type': \":xref:`Type <semver>`\",\n",
    "  })\n",
    "\n",
    "csv_df.index.names = [\":wiki-pg:`Time` of :xref:`release <semver>`\"]\n",
    "csv_df.to_csv('version-stats.csv')"
   ]
  }
 ],
 "metadata": {
  "kernelspec": {
   "display_name": "Python 3",
   "language": "python",
   "name": "python3"
  },
  "language_info": {
   "codemirror_mode": {
    "name": "ipython",
    "version": 3
   },
   "file_extension": ".py",
   "mimetype": "text/x-python",
   "name": "python",
   "nbconvert_exporter": "python",
   "pygments_lexer": "ipython3",
   "version": "3.7.2"
  },
  "toc": {
   "base_numbering": 1,
   "nav_menu": {},
   "number_sections": true,
   "sideBar": true,
   "skip_h1_title": false,
   "title_cell": "Table of Contents",
   "title_sidebar": "Contents",
   "toc_cell": true,
   "toc_position": {},
   "toc_section_display": true,
   "toc_window_display": false
  }
 },
 "nbformat": 4,
 "nbformat_minor": 2
}
